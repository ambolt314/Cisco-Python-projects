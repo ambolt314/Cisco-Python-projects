{
 "cells": [
  {
   "cell_type": "markdown",
   "metadata": {},
   "source": [
    "# Emoji Sentiment\n",
    "\n",
    "Are popular emojis generally associated with positive or negative sentiments?\n",
    "\n",
    "The file `\"emoji-sentiment.csv\"` provides data on the sentiment associated with various emojis.\n",
    "\n",
    "Researchers examined 1.6 million tweets across 13 European languages. Each tweet was labeled by annotators as positive (+1), negative (-1), or neutral (0). About 4% of these tweets included emojis.\n",
    "\n",
    "Columns include:\n",
    "- `Occurrences [5...max]`: Number of times the emoji appears in the dataset.\n",
    "- `Position [0...1]`: Average position of the emoji in tweets, from start (0) to end (1).\n",
    "- `Neg [0...1]`: Percentage of tweets with the emoji that are 'negative'.\n",
    "- `Neu [0...1]`: Percentage of tweets with the emoji that are 'neutral'.\n",
    "- `Pos [0...1]`: Percentage of tweets with the emoji that are 'positive'.\n",
    "\n"
   ]
  },
  {
   "cell_type": "code",
   "execution_count": 53,
   "metadata": {},
   "outputs": [],
   "source": [
    "# FOR GOOGLE COLAB ONLY.\n",
    "# Uncomment and run the code below. A dialog will appear to upload files.\n",
    "# Upload 'emoji-sentiment.csv'.\n",
    "\n",
    "# from google.colab import files\n",
    "# uploaded = files.upload()"
   ]
  },
  {
   "cell_type": "code",
   "execution_count": 54,
   "metadata": {},
   "outputs": [
    {
     "data": {
      "text/html": [
       "<div>\n",
       "<style scoped>\n",
       "    .dataframe tbody tr th:only-of-type {\n",
       "        vertical-align: middle;\n",
       "    }\n",
       "\n",
       "    .dataframe tbody tr th {\n",
       "        vertical-align: top;\n",
       "    }\n",
       "\n",
       "    .dataframe thead th {\n",
       "        text-align: right;\n",
       "    }\n",
       "</style>\n",
       "<table border=\"1\" class=\"dataframe\">\n",
       "  <thead>\n",
       "    <tr style=\"text-align: right;\">\n",
       "      <th></th>\n",
       "      <th>Char</th>\n",
       "      <th>Image [twemoji]</th>\n",
       "      <th>Unicode codepoint</th>\n",
       "      <th>Occurrences [5...max]</th>\n",
       "      <th>Position [0...1]</th>\n",
       "      <th>Neg [0...1]</th>\n",
       "      <th>Neut [0...1]</th>\n",
       "      <th>Pos [0...1]</th>\n",
       "      <th>Sentiment bar (c.i. 95%)</th>\n",
       "      <th>Unicode name</th>\n",
       "      <th>Unicode block</th>\n",
       "    </tr>\n",
       "  </thead>\n",
       "  <tbody>\n",
       "    <tr>\n",
       "      <th>0</th>\n",
       "      <td>😂</td>\n",
       "      <td>😂</td>\n",
       "      <td>0x1f602</td>\n",
       "      <td>14622</td>\n",
       "      <td>0.805</td>\n",
       "      <td>0.247</td>\n",
       "      <td>0.285</td>\n",
       "      <td>0.468</td>\n",
       "      <td>NaN</td>\n",
       "      <td>FACE WITH TEARS OF JOY</td>\n",
       "      <td>Emoticons</td>\n",
       "    </tr>\n",
       "    <tr>\n",
       "      <th>1</th>\n",
       "      <td>❤</td>\n",
       "      <td>❤</td>\n",
       "      <td>0x2764</td>\n",
       "      <td>8050</td>\n",
       "      <td>0.747</td>\n",
       "      <td>0.044</td>\n",
       "      <td>0.166</td>\n",
       "      <td>0.790</td>\n",
       "      <td>NaN</td>\n",
       "      <td>HEAVY BLACK HEART</td>\n",
       "      <td>Dingbats</td>\n",
       "    </tr>\n",
       "    <tr>\n",
       "      <th>2</th>\n",
       "      <td>♥</td>\n",
       "      <td>♥</td>\n",
       "      <td>0x2665</td>\n",
       "      <td>7144</td>\n",
       "      <td>0.754</td>\n",
       "      <td>0.035</td>\n",
       "      <td>0.272</td>\n",
       "      <td>0.693</td>\n",
       "      <td>NaN</td>\n",
       "      <td>BLACK HEART SUIT</td>\n",
       "      <td>Miscellaneous Symbols</td>\n",
       "    </tr>\n",
       "  </tbody>\n",
       "</table>\n",
       "</div>"
      ],
      "text/plain": [
       "  Char Image [twemoji] Unicode codepoint  Occurrences [5...max]  \\\n",
       "0    😂               😂           0x1f602                  14622   \n",
       "1    ❤               ❤            0x2764                   8050   \n",
       "2    ♥               ♥            0x2665                   7144   \n",
       "\n",
       "   Position [0...1]  Neg [0...1]  Neut [0...1]  Pos [0...1]  \\\n",
       "0             0.805        0.247         0.285        0.468   \n",
       "1             0.747        0.044         0.166        0.790   \n",
       "2             0.754        0.035         0.272        0.693   \n",
       "\n",
       "   Sentiment bar (c.i. 95%)            Unicode name          Unicode block  \n",
       "0                       NaN  FACE WITH TEARS OF JOY              Emoticons  \n",
       "1                       NaN       HEAVY BLACK HEART               Dingbats  \n",
       "2                       NaN        BLACK HEART SUIT  Miscellaneous Symbols  "
      ]
     },
     "execution_count": 54,
     "metadata": {},
     "output_type": "execute_result"
    }
   ],
   "source": [
    "import pandas as pd\n",
    "df = pd.read_csv('emoji-sentiment.csv')\n",
    "df.head(3)"
   ]
  },
  {
   "cell_type": "markdown",
   "metadata": {},
   "source": [
    "### Project Ideas:\n",
    "\n",
    "Data Cleaning: \n",
    "- Remove unnecessary columns that are not useful for your analysis.\n",
    "\n",
    "- Rename the remaining columns using `snake_case` (all lowercase letters with underscores between words).\n",
    "\n",
    "New Variables:\n",
    "- Add a new column called `sentiment`, where sentiment = (% positive tweets) - (% negative tweets).\n",
    "\n",
    "- Add a `positive_flag` column that is `True` if `sentiment > 0` (or above a set threshold), otherwise `False`.\n",
    "\n",
    "Types of questions you can now answer more easily:\n",
    "- What percentage of emojis in the dataset have a positive sentiment?\n",
    "\n",
    "- What percentage of the top 20 most popular emojis are positive?\n",
    "\n",
    "- Which emoji (with more than 500 mentions) is the most positive?\n",
    "\n",
    "- Which emoji (with more than 500 mentions) is the most negative?\n",
    "\n",
    "- Where in the tweets are most emojis located (i.e. at the beginning or the end)?\n",
    "\n",
    "- Is there a difference in the placement of positive versus negative emojis within a tweet?"
   ]
  },
  {
   "cell_type": "code",
   "execution_count": 55,
   "metadata": {},
   "outputs": [],
   "source": [
    "# YOUR CODE HERE (add additional cells as needed)"
   ]
  }
 ],
 "metadata": {
  "kernelspec": {
   "display_name": "Python 3",
   "language": "python",
   "name": "python3"
  },
  "language_info": {
   "codemirror_mode": {
    "name": "ipython",
    "version": 3
   },
   "file_extension": ".py",
   "mimetype": "text/x-python",
   "name": "python",
   "nbconvert_exporter": "python",
   "pygments_lexer": "ipython3",
   "version": "3.9.6"
  }
 },
 "nbformat": 4,
 "nbformat_minor": 2
}
