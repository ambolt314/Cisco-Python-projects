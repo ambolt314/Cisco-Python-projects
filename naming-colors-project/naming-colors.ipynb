{
 "cells": [
  {
   "cell_type": "markdown",
   "metadata": {},
   "source": [
    "# Naming colors\n",
    "\n",
    "If you are shown random colors evenly spaced across the color spectrum, what percentage of those colors would the average person name red? What about green? \n",
    "\n",
    "English speakers in the United States were shown 80 color chips in random order in controlled lighting condtions. These 80 colors are evenly spaced across the standard Munsell array of colors. The participants were told: \"There are 11 choices: black, white, red, green, blue, purple, brown, yellow, orange, pink, gray. Choose the closest color word\".\n",
    "\n",
    "This study was then repeated with Bolivian-Spanish speakers in Bolivia and Tsimane' speakers from the Amazon.\n",
    "\n",
    "The dataset `munsell-array-fixed-choice.csv` shows the most common name in each language for each color chip."
   ]
  },
  {
   "cell_type": "code",
   "execution_count": null,
   "metadata": {},
   "outputs": [],
   "source": [
    "# FOR GOOGLE COLAB ONLY.\n",
    "# Uncomment and run the code below. A dialog will appear to upload files.\n",
    "# Upload 'munsell-array-fixed-choice.csv'.\n",
    "\n",
    "# from google.colab import files\n",
    "# uploaded = files.upload()"
   ]
  },
  {
   "cell_type": "code",
   "execution_count": 61,
   "metadata": {},
   "outputs": [
    {
     "data": {
      "text/html": [
       "<div>\n",
       "<style scoped>\n",
       "    .dataframe tbody tr th:only-of-type {\n",
       "        vertical-align: middle;\n",
       "    }\n",
       "\n",
       "    .dataframe tbody tr th {\n",
       "        vertical-align: top;\n",
       "    }\n",
       "\n",
       "    .dataframe thead th {\n",
       "        text-align: right;\n",
       "    }\n",
       "</style>\n",
       "<table border=\"1\" class=\"dataframe\">\n",
       "  <thead>\n",
       "    <tr style=\"text-align: right;\">\n",
       "      <th></th>\n",
       "      <th>grid</th>\n",
       "      <th>x</th>\n",
       "      <th>y</th>\n",
       "      <th>munsell_code</th>\n",
       "      <th>tile_hex</th>\n",
       "      <th>english_color</th>\n",
       "      <th>spanish_color</th>\n",
       "      <th>tsimane_color</th>\n",
       "      <th>spanish</th>\n",
       "      <th>tsimane</th>\n",
       "    </tr>\n",
       "  </thead>\n",
       "  <tbody>\n",
       "    <tr>\n",
       "      <th>0</th>\n",
       "      <td>B1</td>\n",
       "      <td>1</td>\n",
       "      <td>7</td>\n",
       "      <td>5R8/6</td>\n",
       "      <td>#fbb6b0</td>\n",
       "      <td>pink</td>\n",
       "      <td>pink</td>\n",
       "      <td>yellow</td>\n",
       "      <td>rosada (pink)</td>\n",
       "      <td>chamus (yellow)</td>\n",
       "    </tr>\n",
       "    <tr>\n",
       "      <th>1</th>\n",
       "      <td>D1</td>\n",
       "      <td>1</td>\n",
       "      <td>5</td>\n",
       "      <td>5R6/12</td>\n",
       "      <td>#eb6a68</td>\n",
       "      <td>pink</td>\n",
       "      <td>pink</td>\n",
       "      <td>red</td>\n",
       "      <td>rosada (pink)</td>\n",
       "      <td>jainas (red)</td>\n",
       "    </tr>\n",
       "    <tr>\n",
       "      <th>2</th>\n",
       "      <td>F1</td>\n",
       "      <td>1</td>\n",
       "      <td>3</td>\n",
       "      <td>5R4/14</td>\n",
       "      <td>#bb1933</td>\n",
       "      <td>red</td>\n",
       "      <td>red</td>\n",
       "      <td>red</td>\n",
       "      <td>rojo (red)</td>\n",
       "      <td>jainas (red)</td>\n",
       "    </tr>\n",
       "    <tr>\n",
       "      <th>3</th>\n",
       "      <td>H1</td>\n",
       "      <td>1</td>\n",
       "      <td>1</td>\n",
       "      <td>5R2/8</td>\n",
       "      <td>#610d25</td>\n",
       "      <td>red</td>\n",
       "      <td>red</td>\n",
       "      <td>brown</td>\n",
       "      <td>rojo (red)</td>\n",
       "      <td>cafedyeisi (brown)</td>\n",
       "    </tr>\n",
       "    <tr>\n",
       "      <th>4</th>\n",
       "      <td>A2</td>\n",
       "      <td>2</td>\n",
       "      <td>8</td>\n",
       "      <td>10R9/2</td>\n",
       "      <td>#f2ded8</td>\n",
       "      <td>pink</td>\n",
       "      <td>white</td>\n",
       "      <td>white</td>\n",
       "      <td>blanco (white)</td>\n",
       "      <td>jaibas (white)</td>\n",
       "    </tr>\n",
       "  </tbody>\n",
       "</table>\n",
       "</div>"
      ],
      "text/plain": [
       "  grid  x  y munsell_code tile_hex english_color spanish_color tsimane_color  \\\n",
       "0   B1  1  7        5R8/6  #fbb6b0          pink          pink        yellow   \n",
       "1   D1  1  5       5R6/12  #eb6a68          pink          pink           red   \n",
       "2   F1  1  3       5R4/14  #bb1933           red           red           red   \n",
       "3   H1  1  1        5R2/8  #610d25           red           red         brown   \n",
       "4   A2  2  8       10R9/2  #f2ded8          pink         white         white   \n",
       "\n",
       "          spanish             tsimane  \n",
       "0   rosada (pink)     chamus (yellow)  \n",
       "1   rosada (pink)        jainas (red)  \n",
       "2      rojo (red)        jainas (red)  \n",
       "3      rojo (red)  cafedyeisi (brown)  \n",
       "4  blanco (white)      jaibas (white)  "
      ]
     },
     "execution_count": 61,
     "metadata": {},
     "output_type": "execute_result"
    }
   ],
   "source": [
    "import pandas as pd\n",
    "import matplotlib.pyplot as plt\n",
    "df = pd.read_csv(\"munsell-array-fixed-choice.csv\")\n",
    "df.head()"
   ]
  },
  {
   "cell_type": "markdown",
   "metadata": {},
   "source": [
    "The function below plots the 80 evenly spaced colors that each study participant was shown in random order."
   ]
  },
  {
   "cell_type": "code",
   "execution_count": 62,
   "metadata": {},
   "outputs": [
    {
     "data": {
      "image/png": "[encoded data removed]",
      "text/plain": [
       "<Figure size 640x480 with 1 Axes>"
      ]
     },
     "metadata": {},
     "output_type": "display_data"
    }
   ],
   "source": [
    "def plot_colors(color_column):\n",
    "    fig, ax = plt.subplots()\n",
    "    for idx, row in df.iterrows():\n",
    "        ax.add_patch(plt.Rectangle((row['x'] - 0.5, row['y'] - 0.5), 1, 1, color=row[color_column], linewidth=0))\n",
    "\n",
    "    ax.set_xlim(0.5, 20.5)\n",
    "    ax.set_ylim(0.5, 8.5)\n",
    "    ax.set_aspect('equal')\n",
    "    ax.set_facecolor('black')\n",
    "    ax.set_xticks(range(1, 21))\n",
    "    ax.set_yticks(range(1, 9), ['H', 'G', 'F', 'E', 'D', 'C', 'B', 'A'])\n",
    "\n",
    "plot_colors('tile_hex')"
   ]
  },
  {
   "cell_type": "markdown",
   "metadata": {},
   "source": [
    "We can also use this function to plot the most common name in each language for each color chip."
   ]
  },
  {
   "cell_type": "code",
   "execution_count": 63,
   "metadata": {},
   "outputs": [
    {
     "data": {
      "image/png": "[encoded data removed]",
      "text/plain": [
       "<Figure size 640x480 with 1 Axes>"
      ]
     },
     "metadata": {},
     "output_type": "display_data"
    }
   ],
   "source": [
    "# Also try 'spanish_color' and 'tsimane_color'\n",
    "plot_colors('english_color')"
   ]
  },
  {
   "cell_type": "markdown",
   "metadata": {},
   "source": [
    "### Project Ideas:\n",
    "\n",
    "- For each language, calculate what percentage of chips are named each color. Return dataframes for each language.\n",
    "\n",
    "- Create a horizontal bar plot for each language. Each bar represents a color name and the length encodes the percentage of chips that are named that color.\n",
    "\n",
    "- Is there a correlation between languages? Create scatter plots. \n",
    "\t- Hint: the x-axis could be the percentage of chips for English speakers and the y-axis could be the percentage of chips for Tsimane speakers and each data point represents a color name.\n",
    "\t\n",
    "\t- You might need to `merge` dataframes.\n"
   ]
  },
  {
   "cell_type": "code",
   "execution_count": null,
   "metadata": {},
   "outputs": [],
   "source": [
    "# YOUR CODE HERE (add more cells as needed)"
   ]
  }
 ],
 "metadata": {
  "kernelspec": {
   "display_name": "Python 3",
   "language": "python",
   "name": "python3"
  },
  "language_info": {
   "codemirror_mode": {
    "name": "ipython",
    "version": 3
   },
   "file_extension": ".py",
   "mimetype": "text/x-python",
   "name": "python",
   "nbconvert_exporter": "python",
   "pygments_lexer": "ipython3",
   "version": "3.9.6"
  }
 },
 "nbformat": 4,
 "nbformat_minor": 2
}
