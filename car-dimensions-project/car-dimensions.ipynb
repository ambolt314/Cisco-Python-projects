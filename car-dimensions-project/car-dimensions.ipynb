{
 "cells": [
  {
   "cell_type": "markdown",
   "metadata": {},
   "source": [
    "# Car Dimensions: A Look Through Time\n",
    "\n",
    "Have cars of the same model grown larger over the years, or does the change in size depend on the specific model?\n",
    "\n",
    "To explore this question, we have a dataset in the file `car-dimensions.csv`, which presents the `length`, `width`, and `height` (all in millimeters) for 53 car models. This dataset includes measurements from the earliest generation of each model that we could find, as well as data from the latest model. \n",
    "\n",
    "By analyzing this information, we can uncover trends and patterns in the evolution of car dimensions over time."
   ]
  },
  {
   "cell_type": "code",
   "execution_count": 1,
   "metadata": {},
   "outputs": [],
   "source": [
    "# FOR GOOGLE COLAB ONLY.\n",
    "# Uncomment and run the code below. A dialog will appear to upload files.\n",
    "# Upload 'car-dimensions.csv'.\n",
    "\n",
    "# from google.colab import files\n",
    "# uploaded = files.upload()"
   ]
  },
  {
   "cell_type": "code",
   "execution_count": 2,
   "metadata": {},
   "outputs": [
    {
     "data": {
      "text/html": [
       "<div>\n",
       "<style scoped>\n",
       "    .dataframe tbody tr th:only-of-type {\n",
       "        vertical-align: middle;\n",
       "    }\n",
       "\n",
       "    .dataframe tbody tr th {\n",
       "        vertical-align: top;\n",
       "    }\n",
       "\n",
       "    .dataframe thead th {\n",
       "        text-align: right;\n",
       "    }\n",
       "</style>\n",
       "<table border=\"1\" class=\"dataframe\">\n",
       "  <thead>\n",
       "    <tr style=\"text-align: right;\">\n",
       "      <th></th>\n",
       "      <th>brand_model</th>\n",
       "      <th>length</th>\n",
       "      <th>width</th>\n",
       "      <th>height</th>\n",
       "      <th>year</th>\n",
       "      <th>generation</th>\n",
       "    </tr>\n",
       "  </thead>\n",
       "  <tbody>\n",
       "    <tr>\n",
       "      <th>0</th>\n",
       "      <td>Audi A4</td>\n",
       "      <td>4520</td>\n",
       "      <td>1733</td>\n",
       "      <td>1415</td>\n",
       "      <td>1994</td>\n",
       "      <td>first</td>\n",
       "    </tr>\n",
       "    <tr>\n",
       "      <th>1</th>\n",
       "      <td>Audi A4</td>\n",
       "      <td>4762</td>\n",
       "      <td>1847</td>\n",
       "      <td>1427</td>\n",
       "      <td>2015</td>\n",
       "      <td>latest</td>\n",
       "    </tr>\n",
       "    <tr>\n",
       "      <th>2</th>\n",
       "      <td>BMW 3 Series</td>\n",
       "      <td>4355</td>\n",
       "      <td>1610</td>\n",
       "      <td>1380</td>\n",
       "      <td>1975</td>\n",
       "      <td>first</td>\n",
       "    </tr>\n",
       "    <tr>\n",
       "      <th>3</th>\n",
       "      <td>BMW 3 Series</td>\n",
       "      <td>4829</td>\n",
       "      <td>1827</td>\n",
       "      <td>1442</td>\n",
       "      <td>2018</td>\n",
       "      <td>latest</td>\n",
       "    </tr>\n",
       "  </tbody>\n",
       "</table>\n",
       "</div>"
      ],
      "text/plain": [
       "    brand_model  length  width  height  year generation\n",
       "0       Audi A4    4520   1733    1415  1994      first\n",
       "1       Audi A4    4762   1847    1427  2015     latest\n",
       "2  BMW 3 Series    4355   1610    1380  1975      first\n",
       "3  BMW 3 Series    4829   1827    1442  2018     latest"
      ]
     },
     "execution_count": 2,
     "metadata": {},
     "output_type": "execute_result"
    }
   ],
   "source": [
    "import pandas as pd\n",
    "import matplotlib.pyplot as plt\n",
    "\n",
    "df = pd.read_csv('car-dimensions.csv')\n",
    "df.head(4)"
   ]
  },
  {
   "cell_type": "code",
   "execution_count": 3,
   "metadata": {},
   "outputs": [
    {
     "data": {
      "text/html": [
       "<div>\n",
       "<style scoped>\n",
       "    .dataframe tbody tr th:only-of-type {\n",
       "        vertical-align: middle;\n",
       "    }\n",
       "\n",
       "    .dataframe tbody tr th {\n",
       "        vertical-align: top;\n",
       "    }\n",
       "\n",
       "    .dataframe thead th {\n",
       "        text-align: right;\n",
       "    }\n",
       "</style>\n",
       "<table border=\"1\" class=\"dataframe\">\n",
       "  <thead>\n",
       "    <tr style=\"text-align: right;\">\n",
       "      <th></th>\n",
       "      <th>brand_model</th>\n",
       "      <th>length</th>\n",
       "      <th>width</th>\n",
       "      <th>height</th>\n",
       "      <th>year</th>\n",
       "      <th>generation</th>\n",
       "    </tr>\n",
       "  </thead>\n",
       "  <tbody>\n",
       "    <tr>\n",
       "      <th>0</th>\n",
       "      <td>Audi A4</td>\n",
       "      <td>4520</td>\n",
       "      <td>1733</td>\n",
       "      <td>1415</td>\n",
       "      <td>1994</td>\n",
       "      <td>first</td>\n",
       "    </tr>\n",
       "    <tr>\n",
       "      <th>2</th>\n",
       "      <td>BMW 3 Series</td>\n",
       "      <td>4355</td>\n",
       "      <td>1610</td>\n",
       "      <td>1380</td>\n",
       "      <td>1975</td>\n",
       "      <td>first</td>\n",
       "    </tr>\n",
       "  </tbody>\n",
       "</table>\n",
       "</div>"
      ],
      "text/plain": [
       "    brand_model  length  width  height  year generation\n",
       "0       Audi A4    4520   1733    1415  1994      first\n",
       "2  BMW 3 Series    4355   1610    1380  1975      first"
      ]
     },
     "execution_count": 3,
     "metadata": {},
     "output_type": "execute_result"
    }
   ],
   "source": [
    "first_generation = df.query('generation == \"first\"')\n",
    "first_generation.head(2)"
   ]
  },
  {
   "cell_type": "code",
   "execution_count": 4,
   "metadata": {},
   "outputs": [
    {
     "data": {
      "text/html": [
       "<div>\n",
       "<style scoped>\n",
       "    .dataframe tbody tr th:only-of-type {\n",
       "        vertical-align: middle;\n",
       "    }\n",
       "\n",
       "    .dataframe tbody tr th {\n",
       "        vertical-align: top;\n",
       "    }\n",
       "\n",
       "    .dataframe thead th {\n",
       "        text-align: right;\n",
       "    }\n",
       "</style>\n",
       "<table border=\"1\" class=\"dataframe\">\n",
       "  <thead>\n",
       "    <tr style=\"text-align: right;\">\n",
       "      <th></th>\n",
       "      <th>brand_model</th>\n",
       "      <th>length</th>\n",
       "      <th>width</th>\n",
       "      <th>height</th>\n",
       "      <th>year</th>\n",
       "      <th>generation</th>\n",
       "    </tr>\n",
       "  </thead>\n",
       "  <tbody>\n",
       "    <tr>\n",
       "      <th>1</th>\n",
       "      <td>Audi A4</td>\n",
       "      <td>4762</td>\n",
       "      <td>1847</td>\n",
       "      <td>1427</td>\n",
       "      <td>2015</td>\n",
       "      <td>latest</td>\n",
       "    </tr>\n",
       "    <tr>\n",
       "      <th>3</th>\n",
       "      <td>BMW 3 Series</td>\n",
       "      <td>4829</td>\n",
       "      <td>1827</td>\n",
       "      <td>1442</td>\n",
       "      <td>2018</td>\n",
       "      <td>latest</td>\n",
       "    </tr>\n",
       "  </tbody>\n",
       "</table>\n",
       "</div>"
      ],
      "text/plain": [
       "    brand_model  length  width  height  year generation\n",
       "1       Audi A4    4762   1847    1427  2015     latest\n",
       "3  BMW 3 Series    4829   1827    1442  2018     latest"
      ]
     },
     "execution_count": 4,
     "metadata": {},
     "output_type": "execute_result"
    }
   ],
   "source": [
    "latest_generation = df.query('generation == \"latest\"')\n",
    "latest_generation.head(2)"
   ]
  },
  {
   "cell_type": "code",
   "execution_count": 5,
   "metadata": {},
   "outputs": [],
   "source": [
    "# helper function, change gap, vertical alignment, horizontal alignment, placement of gap...\n",
    "def add_labels(df, x_col, y_col, label_col):\n",
    "\tfor i, row in df.iterrows():\n",
    "\t\tx = row[x_col]\n",
    "\t\ty = row[y_col]\n",
    "\t\tgap = \"  \"\n",
    "\t\tlabel = gap + row[label_col]\n",
    "\t\tplt.text(x, y, label, va='center', ha='left')"
   ]
  },
  {
   "cell_type": "markdown",
   "metadata": {},
   "source": [
    "### Project Ideas\n",
    "- Create paired scatter plots of car `width`, `length`, or `height`.\n",
    "\n",
    "- Follow the Pro Tips.\n",
    "\n",
    "- Add labels to datapoints to tell a story.\n",
    "\n",
    "- Create new variables such as:\n",
    "\t- `car footprint = (length * width)`\n",
    "\t- `percent change = (latest - first) / first`\n",
    "\t\n",
    "- Create horizontal bar plots showing which car models have changed the least or most for a variable of your choice.\n",
    "\n",
    "Below is a preliminary paired scatter plot of car `length` to get you started. "
   ]
  },
  {
   "cell_type": "code",
   "execution_count": 6,
   "metadata": {},
   "outputs": [
    {
     "data": {
      "image/png": "[encoded data removed]",
      "text/plain": [
       "<Figure size 400x300 with 1 Axes>"
      ]
     },
     "metadata": {},
     "output_type": "display_data"
    }
   ],
   "source": [
    "plt.figure(figsize=(4, 3))  \n",
    "plt.scatter(first_generation['length'], latest_generation['length'])\n",
    "plt.xlabel('First generation')\n",
    "plt.ylabel('Latest generation')\n",
    "plt.title('Car length of 53 car models')\n",
    "plt.show()"
   ]
  },
  {
   "cell_type": "code",
   "execution_count": 7,
   "metadata": {},
   "outputs": [],
   "source": [
    "# YOUR CODE HERE (add additional cells as needed)"
   ]
  }
 ],
 "metadata": {
  "kernelspec": {
   "display_name": "Python 3",
   "language": "python",
   "name": "python3"
  },
  "language_info": {
   "codemirror_mode": {
    "name": "ipython",
    "version": 3
   },
   "file_extension": ".py",
   "mimetype": "text/x-python",
   "name": "python",
   "nbconvert_exporter": "python",
   "pygments_lexer": "ipython3",
   "version": "3.9.6"
  }
 },
 "nbformat": 4,
 "nbformat_minor": 2
}
