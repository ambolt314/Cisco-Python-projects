{
 "cells": [
  {
   "cell_type": "markdown",
   "metadata": {},
   "source": [
    "# Coral Conundrum\n",
    "\n",
    "Coral reef fish are colorful and diverse species that live in and around coral reefs, playing important roles in keeping these ecosystems healthy.\n",
    "\n",
    "Why did the word usage frequency of most `coral reef fish` species drop sharply around `1998`? \n",
    "\n",
    "Could it be linked to the UN's designation of 1998 as the `International Year of the Ocean`, a major coral bleaching event, or the internet's rapid growth after Google's launch?\n",
    "\n",
    "This project will explore various factors that might explain this decline in word frequency, encouraging you to discover potential explanations we haven't yet considered."
   ]
  },
  {
   "cell_type": "code",
   "execution_count": 106,
   "metadata": {},
   "outputs": [],
   "source": [
    "# FOR GOOGLE COLAB ONLY.\n",
    "# Uncomment and run the code below. A dialog will appear to upload files.\n",
    "# Upload:\n",
    "#  'animal-word-trends-coral-conundrum.csv'\n",
    "#  'bleaching-reefs.csv'\n",
    "#  'global-coral-cover.csv'\n",
    "#  'new-scuba-certifications.csv'\n",
    "#  'reef-fish-identification-book.csv'\n",
    "\n",
    "# from google.colab import files\n",
    "# uploaded = files.upload()"
   ]
  },
  {
   "cell_type": "code",
   "execution_count": 107,
   "metadata": {},
   "outputs": [
    {
     "data": {
      "text/html": [
       "<div>\n",
       "<style scoped>\n",
       "    .dataframe tbody tr th:only-of-type {\n",
       "        vertical-align: middle;\n",
       "    }\n",
       "\n",
       "    .dataframe tbody tr th {\n",
       "        vertical-align: top;\n",
       "    }\n",
       "\n",
       "    .dataframe thead th {\n",
       "        text-align: right;\n",
       "    }\n",
       "</style>\n",
       "<table border=\"1\" class=\"dataframe\">\n",
       "  <thead>\n",
       "    <tr style=\"text-align: right;\">\n",
       "      <th></th>\n",
       "      <th>year</th>\n",
       "      <th>word</th>\n",
       "      <th>frequency</th>\n",
       "    </tr>\n",
       "  </thead>\n",
       "  <tbody>\n",
       "    <tr>\n",
       "      <th>0</th>\n",
       "      <td>1900</td>\n",
       "      <td>angelfish</td>\n",
       "      <td>0.003158</td>\n",
       "    </tr>\n",
       "    <tr>\n",
       "      <th>1</th>\n",
       "      <td>1900</td>\n",
       "      <td>bannerfish</td>\n",
       "      <td>0.000015</td>\n",
       "    </tr>\n",
       "    <tr>\n",
       "      <th>2</th>\n",
       "      <td>1900</td>\n",
       "      <td>blenny</td>\n",
       "      <td>0.052464</td>\n",
       "    </tr>\n",
       "    <tr>\n",
       "      <th>3</th>\n",
       "      <td>1900</td>\n",
       "      <td>butterflyfish</td>\n",
       "      <td>0.000232</td>\n",
       "    </tr>\n",
       "    <tr>\n",
       "      <th>4</th>\n",
       "      <td>1900</td>\n",
       "      <td>damselfish</td>\n",
       "      <td>0.000000</td>\n",
       "    </tr>\n",
       "    <tr>\n",
       "      <th>...</th>\n",
       "      <td>...</td>\n",
       "      <td>...</td>\n",
       "      <td>...</td>\n",
       "    </tr>\n",
       "    <tr>\n",
       "      <th>3128</th>\n",
       "      <td>2019</td>\n",
       "      <td>surgeonfish</td>\n",
       "      <td>0.013411</td>\n",
       "    </tr>\n",
       "    <tr>\n",
       "      <th>3129</th>\n",
       "      <td>2019</td>\n",
       "      <td>triggerfish</td>\n",
       "      <td>0.021962</td>\n",
       "    </tr>\n",
       "    <tr>\n",
       "      <th>3130</th>\n",
       "      <td>2019</td>\n",
       "      <td>trumpetfish</td>\n",
       "      <td>0.002598</td>\n",
       "    </tr>\n",
       "    <tr>\n",
       "      <th>3131</th>\n",
       "      <td>2019</td>\n",
       "      <td>unicornfish</td>\n",
       "      <td>0.001246</td>\n",
       "    </tr>\n",
       "    <tr>\n",
       "      <th>3132</th>\n",
       "      <td>2019</td>\n",
       "      <td>wrasse</td>\n",
       "      <td>0.056255</td>\n",
       "    </tr>\n",
       "  </tbody>\n",
       "</table>\n",
       "<p>3133 rows × 3 columns</p>\n",
       "</div>"
      ],
      "text/plain": [
       "      year           word  frequency\n",
       "0     1900      angelfish   0.003158\n",
       "1     1900     bannerfish   0.000015\n",
       "2     1900         blenny   0.052464\n",
       "3     1900  butterflyfish   0.000232\n",
       "4     1900     damselfish   0.000000\n",
       "...    ...            ...        ...\n",
       "3128  2019    surgeonfish   0.013411\n",
       "3129  2019    triggerfish   0.021962\n",
       "3130  2019    trumpetfish   0.002598\n",
       "3131  2019    unicornfish   0.001246\n",
       "3132  2019         wrasse   0.056255\n",
       "\n",
       "[3133 rows x 3 columns]"
      ]
     },
     "execution_count": 107,
     "metadata": {},
     "output_type": "execute_result"
    }
   ],
   "source": [
    "import pandas as pd\n",
    "import matplotlib.pyplot as plt\n",
    "from linear_model import LinearModel\n",
    "\n",
    "df = pd.read_csv('animal-word-trends-coral-conundrum.csv')\n",
    "df"
   ]
  },
  {
   "cell_type": "markdown",
   "metadata": {},
   "source": [
    "### Exploring Word Trends for Coral Reef Fish\n",
    "\n",
    "We have provided a function to plot the word usage for different coral reef fish. Create different plots. What trends do you observe?"
   ]
  },
  {
   "cell_type": "code",
   "execution_count": 108,
   "metadata": {},
   "outputs": [
    {
     "data": {
      "text/plain": [
       "array(['angelfish', 'bannerfish', 'blenny', 'butterflyfish', 'damselfish',\n",
       "       'filefish', 'frogfish', 'goatfish', 'lionfish', 'lizardfish',\n",
       "       'needlefish', 'parrotfish', 'pipefish', 'porcupinefish',\n",
       "       'rabbitfish', 'scorpionfish', 'sharksucker', 'soldierfish',\n",
       "       'squirrelfish', 'surgeonfish', 'triggerfish', 'trumpetfish',\n",
       "       'wrasse', 'hawkfish', 'cornetfish', 'unicornfish', 'anemonefish'],\n",
       "      dtype=object)"
      ]
     },
     "execution_count": 108,
     "metadata": {},
     "output_type": "execute_result"
    }
   ],
   "source": [
    "word_list = df['word'].unique()\n",
    "word_list"
   ]
  },
  {
   "cell_type": "code",
   "execution_count": 109,
   "metadata": {},
   "outputs": [],
   "source": [
    "def plot_word_trend( animal ):\n",
    "    trend = df.query('word == @animal')\n",
    "    plt.figure(figsize=(5, 3))\n",
    "    plt.plot(trend['year'], trend['frequency'], label=animal)\n",
    "    plt.ylabel('Frequency per million')\n",
    "    plt.title(f\"'{animal}' and the year 1998\")\n",
    "    plt.axvline(1998, color='orange', ls='--')"
   ]
  },
  {
   "cell_type": "code",
   "execution_count": null,
   "metadata": {},
   "outputs": [
    {
     "data": {
      "image/png": "[encoded data removed]",
      "text/plain": [
       "<Figure size 500x300 with 1 Axes>"
      ]
     },
     "metadata": {},
     "output_type": "display_data"
    }
   ],
   "source": [
    "plot_word_trend('butterflyfish')\n",
    "# try 'butterflyfish', 'parrotfish', 'anemonefish', 'triggerfish', ..."
   ]
  },
  {
   "cell_type": "code",
   "execution_count": 111,
   "metadata": {},
   "outputs": [
    {
     "data": {
      "image/png": "[encoded data removed]",
      "text/plain": [
       "<Figure size 500x300 with 1 Axes>"
      ]
     },
     "metadata": {},
     "output_type": "display_data"
    }
   ],
   "source": [
    "plot_word_trend(word_list[0])\n",
    "# try word_list[1], word_list[2], word_list[3], ..."
   ]
  },
  {
   "cell_type": "markdown",
   "metadata": {},
   "source": [
    "### Possible Explanatory Mechanism 1: Coral Bleaching\n",
    "\n",
    "Coral bleaching occurs when coral reefs lose their vibrant colors and turn white, primarily from warm ocean temperatures. This stress causes corals to expel the essential algae, zooxanthellae, which provide them with food and color. Prolonged warm conditions can lead to coral starvation and death.\n",
    "\n",
    "Researchers studied coral bleaching events at 100 locations across 54 countries from 1980 to 2016. The file `bleaching-reefs.csv` documents these events. Bleaching is classified as severe (`S`) if over 30% of coral colonies are affected across large areas and moderate (`M`) if 1-30% of colonies are affected at multiple sites at that location."
   ]
  },
  {
   "cell_type": "code",
   "execution_count": 112,
   "metadata": {},
   "outputs": [
    {
     "data": {
      "text/html": [
       "<div>\n",
       "<style scoped>\n",
       "    .dataframe tbody tr th:only-of-type {\n",
       "        vertical-align: middle;\n",
       "    }\n",
       "\n",
       "    .dataframe tbody tr th {\n",
       "        vertical-align: top;\n",
       "    }\n",
       "\n",
       "    .dataframe thead th {\n",
       "        text-align: right;\n",
       "    }\n",
       "</style>\n",
       "<table border=\"1\" class=\"dataframe\">\n",
       "  <thead>\n",
       "    <tr style=\"text-align: right;\">\n",
       "      <th></th>\n",
       "      <th>location</th>\n",
       "      <th>year</th>\n",
       "      <th>severity</th>\n",
       "    </tr>\n",
       "  </thead>\n",
       "  <tbody>\n",
       "    <tr>\n",
       "      <th>0</th>\n",
       "      <td>Australia, Coral Sea Northern</td>\n",
       "      <td>1998</td>\n",
       "      <td>S</td>\n",
       "    </tr>\n",
       "    <tr>\n",
       "      <th>1</th>\n",
       "      <td>Australia, Coral Sea Northern</td>\n",
       "      <td>2002</td>\n",
       "      <td>S</td>\n",
       "    </tr>\n",
       "    <tr>\n",
       "      <th>2</th>\n",
       "      <td>Australia, Coral Sea Northern</td>\n",
       "      <td>2004</td>\n",
       "      <td>M</td>\n",
       "    </tr>\n",
       "    <tr>\n",
       "      <th>3</th>\n",
       "      <td>Australia, Coral Sea Northern</td>\n",
       "      <td>2016</td>\n",
       "      <td>S</td>\n",
       "    </tr>\n",
       "    <tr>\n",
       "      <th>4</th>\n",
       "      <td>Australia, Coral Sea Southern</td>\n",
       "      <td>2016</td>\n",
       "      <td>M</td>\n",
       "    </tr>\n",
       "    <tr>\n",
       "      <th>...</th>\n",
       "      <td>...</td>\n",
       "      <td>...</td>\n",
       "      <td>...</td>\n",
       "    </tr>\n",
       "    <tr>\n",
       "      <th>604</th>\n",
       "      <td>Venezuela</td>\n",
       "      <td>1995</td>\n",
       "      <td>M</td>\n",
       "    </tr>\n",
       "    <tr>\n",
       "      <th>605</th>\n",
       "      <td>Venezuela</td>\n",
       "      <td>1998</td>\n",
       "      <td>M</td>\n",
       "    </tr>\n",
       "    <tr>\n",
       "      <th>606</th>\n",
       "      <td>Venezuela</td>\n",
       "      <td>2005</td>\n",
       "      <td>M</td>\n",
       "    </tr>\n",
       "    <tr>\n",
       "      <th>607</th>\n",
       "      <td>Venezuela</td>\n",
       "      <td>2006</td>\n",
       "      <td>M</td>\n",
       "    </tr>\n",
       "    <tr>\n",
       "      <th>608</th>\n",
       "      <td>Venezuela</td>\n",
       "      <td>2010</td>\n",
       "      <td>S</td>\n",
       "    </tr>\n",
       "  </tbody>\n",
       "</table>\n",
       "<p>609 rows × 3 columns</p>\n",
       "</div>"
      ],
      "text/plain": [
       "                          location  year severity\n",
       "0    Australia, Coral Sea Northern  1998       S \n",
       "1    Australia, Coral Sea Northern  2002       S \n",
       "2    Australia, Coral Sea Northern  2004       M \n",
       "3    Australia, Coral Sea Northern  2016       S \n",
       "4    Australia, Coral Sea Southern  2016       M \n",
       "..                             ...   ...      ...\n",
       "604                      Venezuela  1995        M\n",
       "605                      Venezuela  1998        M\n",
       "606                      Venezuela  2005        M\n",
       "607                      Venezuela  2006        M\n",
       "608                      Venezuela  2010        S\n",
       "\n",
       "[609 rows x 3 columns]"
      ]
     },
     "execution_count": 112,
     "metadata": {},
     "output_type": "execute_result"
    }
   ],
   "source": [
    "bleaching_reefs = pd.read_csv('bleaching-reefs.csv')\n",
    "bleaching_reefs"
   ]
  },
  {
   "cell_type": "markdown",
   "metadata": {},
   "source": [
    "#### Ideas\n",
    "\n",
    "- Use `df.groupby()` to count how many locations experienced coral bleaching each year.\n",
    "\n",
    "- Create a bar chart to show the total number of bleaching events per year.\n",
    "\n",
    "- Use `df.query()` and `df.groupby()` to make another bar chart displaying the number of `severe` bleaching events each year.\n",
    "\n",
    "#### Observations and Questions\n",
    "\n",
    "- What do you notice about the data? How might coral bleaching be related to the decrease in word frequency for these fish species?\n",
    "\n",
    "\n",
    "#### Additional Datasets\n",
    "\n",
    "- **Coral Cover Data:** The dataset from  `global-coral-cover.csv` shows the average percentage of coral reefs covered by live coral each year. A healhty reef has more live coral, as opposed to substrates such as sand, dead coral, and algae.\n",
    "\n",
    "- **SCUBA Certifications**: The dataset from  `new-scuba-certifications.csv` shows how many people get SCUBA certified each year. This certification is a prerequisite for dive tours. "
   ]
  },
  {
   "cell_type": "code",
   "execution_count": 113,
   "metadata": {},
   "outputs": [
    {
     "data": {
      "text/html": [
       "<div>\n",
       "<style scoped>\n",
       "    .dataframe tbody tr th:only-of-type {\n",
       "        vertical-align: middle;\n",
       "    }\n",
       "\n",
       "    .dataframe tbody tr th {\n",
       "        vertical-align: top;\n",
       "    }\n",
       "\n",
       "    .dataframe thead th {\n",
       "        text-align: right;\n",
       "    }\n",
       "</style>\n",
       "<table border=\"1\" class=\"dataframe\">\n",
       "  <thead>\n",
       "    <tr style=\"text-align: right;\">\n",
       "      <th></th>\n",
       "      <th>year</th>\n",
       "      <th>percent_coral</th>\n",
       "    </tr>\n",
       "  </thead>\n",
       "  <tbody>\n",
       "    <tr>\n",
       "      <th>0</th>\n",
       "      <td>1978</td>\n",
       "      <td>32.34</td>\n",
       "    </tr>\n",
       "    <tr>\n",
       "      <th>1</th>\n",
       "      <td>1979</td>\n",
       "      <td>32.30</td>\n",
       "    </tr>\n",
       "  </tbody>\n",
       "</table>\n",
       "</div>"
      ],
      "text/plain": [
       "   year  percent_coral\n",
       "0  1978          32.34\n",
       "1  1979          32.30"
      ]
     },
     "execution_count": 113,
     "metadata": {},
     "output_type": "execute_result"
    }
   ],
   "source": [
    "coral_cover = pd.read_csv('global-coral-cover.csv')\n",
    "coral_cover.head(2)"
   ]
  },
  {
   "cell_type": "code",
   "execution_count": 114,
   "metadata": {},
   "outputs": [
    {
     "data": {
      "text/html": [
       "<div>\n",
       "<style scoped>\n",
       "    .dataframe tbody tr th:only-of-type {\n",
       "        vertical-align: middle;\n",
       "    }\n",
       "\n",
       "    .dataframe tbody tr th {\n",
       "        vertical-align: top;\n",
       "    }\n",
       "\n",
       "    .dataframe thead th {\n",
       "        text-align: right;\n",
       "    }\n",
       "</style>\n",
       "<table border=\"1\" class=\"dataframe\">\n",
       "  <thead>\n",
       "    <tr style=\"text-align: right;\">\n",
       "      <th></th>\n",
       "      <th>year</th>\n",
       "      <th>num_new_certifications</th>\n",
       "    </tr>\n",
       "  </thead>\n",
       "  <tbody>\n",
       "    <tr>\n",
       "      <th>0</th>\n",
       "      <td>1967</td>\n",
       "      <td>3226</td>\n",
       "    </tr>\n",
       "    <tr>\n",
       "      <th>1</th>\n",
       "      <td>1968</td>\n",
       "      <td>8442</td>\n",
       "    </tr>\n",
       "  </tbody>\n",
       "</table>\n",
       "</div>"
      ],
      "text/plain": [
       "   year  num_new_certifications\n",
       "0  1967                    3226\n",
       "1  1968                    8442"
      ]
     },
     "execution_count": 114,
     "metadata": {},
     "output_type": "execute_result"
    }
   ],
   "source": [
    "scuba = pd.read_csv('new-scuba-certifications.csv')\n",
    "scuba.head(2)"
   ]
  },
  {
   "cell_type": "markdown",
   "metadata": {},
   "source": [
    "### Possible Explanatory Mechanism 2: The Internet Effect\n",
    "\n",
    "Google was founded in 1998, which may have led to fewer fish identification books being published as more information became available online. FishBase, launched in 1998, is one example of such a resource.\n",
    "\n",
    "Other relevent websites include:\n",
    "\n",
    "| Year | Website                     |\n",
    "|------|-----------------------------|\n",
    "| 1998 | http://fishbase.org/        |\n",
    "| 1997 | http://bms.bc.ca/           |\n",
    "| 1998 | http://aquariumfish.com/    |\n",
    "| 1996 | http://scubadiving.com/     |\n",
    "| 1999 | http://saltaquarium.com/    |\n",
    "| 1998 | http://marinefish.net/      |\n",
    "| 1999 | http://saltwaterfish.com/   |\n",
    "| 1998 | http://ncaquariums.com/     |\n",
    "| 1997 | http://seattleaquarium.org/ |\n",
    "| 1998 | http://londonaquarium.co.uk/|\n",
    "| 1999 | http://newportaquarium.com/ |\n",
    "\n",
    "The book \"Reef Fish Identification, Tropical Pacific\" is a well-known guide for identifying coral reef fish.\n",
    "\n",
    "The file `reef-fish-identification-book.csv` lists the number of species covered in the book for each type of fish. For instance, it includes identification details for 49 species of angelfish."
   ]
  },
  {
   "cell_type": "code",
   "execution_count": 115,
   "metadata": {},
   "outputs": [
    {
     "data": {
      "text/html": [
       "<div>\n",
       "<style scoped>\n",
       "    .dataframe tbody tr th:only-of-type {\n",
       "        vertical-align: middle;\n",
       "    }\n",
       "\n",
       "    .dataframe tbody tr th {\n",
       "        vertical-align: top;\n",
       "    }\n",
       "\n",
       "    .dataframe thead th {\n",
       "        text-align: right;\n",
       "    }\n",
       "</style>\n",
       "<table border=\"1\" class=\"dataframe\">\n",
       "  <thead>\n",
       "    <tr style=\"text-align: right;\">\n",
       "      <th></th>\n",
       "      <th>word</th>\n",
       "      <th>num_species_in_book</th>\n",
       "    </tr>\n",
       "  </thead>\n",
       "  <tbody>\n",
       "    <tr>\n",
       "      <th>0</th>\n",
       "      <td>anemonefish</td>\n",
       "      <td>20</td>\n",
       "    </tr>\n",
       "    <tr>\n",
       "      <th>1</th>\n",
       "      <td>angelfish</td>\n",
       "      <td>49</td>\n",
       "    </tr>\n",
       "    <tr>\n",
       "      <th>2</th>\n",
       "      <td>bannerfish</td>\n",
       "      <td>7</td>\n",
       "    </tr>\n",
       "    <tr>\n",
       "      <th>3</th>\n",
       "      <td>blenny</td>\n",
       "      <td>64</td>\n",
       "    </tr>\n",
       "    <tr>\n",
       "      <th>4</th>\n",
       "      <td>butterflyfish</td>\n",
       "      <td>63</td>\n",
       "    </tr>\n",
       "  </tbody>\n",
       "</table>\n",
       "</div>"
      ],
      "text/plain": [
       "            word  num_species_in_book\n",
       "0    anemonefish                   20\n",
       "1      angelfish                   49\n",
       "2     bannerfish                    7\n",
       "3         blenny                   64\n",
       "4  butterflyfish                   63"
      ]
     },
     "execution_count": 115,
     "metadata": {},
     "output_type": "execute_result"
    }
   ],
   "source": [
    "fish_id = pd.read_csv('reef-fish-identification-book.csv')\n",
    "fish_id.head()"
   ]
  },
  {
   "cell_type": "markdown",
   "metadata": {},
   "source": [
    "#### Ideas\n",
    "\n",
    "- Use `df.query()` to determine the `frequency per million` of each fish name in `1998`.\n",
    "\n",
    "- Merge these results with the identification guide dataset (`fish_id`).\n",
    "\n",
    "- Build a linear model to examine the relationship between the `number of species` listed in the book and the `frequency per million` of each fish name.\n",
    "\n",
    "- Create a scatter plot with a best-fit line and evaluate the goodness of fit.\n",
    "\n",
    "#### Questions to Consider\n",
    "- What patterns emerge from the data? \n",
    "\n",
    "- Does the analysis suggest that fish identification guides have historically influenced the fish name’s frequency in written records? \n",
    "\n",
    "- If printed fish identification guides became less popular with the rise of the internet, how might the frequency of coral reef fish names in literature change?\n",
    "\n",
    "\n",
    "\n",
    "\n"
   ]
  },
  {
   "cell_type": "code",
   "execution_count": 116,
   "metadata": {},
   "outputs": [],
   "source": [
    "# YOUR CODE HERE (add additional cells as needed)\n",
    "\n",
    "# Linear model API\n",
    "\n",
    "# linear = LinearModel()\n",
    "# linear.fit(x, y)\n",
    "# linear.predict(x)\n",
    "# linear.plot_model(x_min, x_max, color=\"black\")\n",
    "# linear.print_model_info(self):\n"
   ]
  },
  {
   "cell_type": "markdown",
   "metadata": {},
   "source": [
    "### Possible Explanatory Mechanism 3: Your Awesome Idea!"
   ]
  },
  {
   "cell_type": "code",
   "execution_count": 117,
   "metadata": {},
   "outputs": [],
   "source": [
    "# YOUR CODE HERE (add additional cells as needed)"
   ]
  }
 ],
 "metadata": {
  "kernelspec": {
   "display_name": "Python 3",
   "language": "python",
   "name": "python3"
  },
  "language_info": {
   "codemirror_mode": {
    "name": "ipython",
    "version": 3
   },
   "file_extension": ".py",
   "mimetype": "text/x-python",
   "name": "python",
   "nbconvert_exporter": "python",
   "pygments_lexer": "ipython3",
   "version": "3.9.6"
  }
 },
 "nbformat": 4,
 "nbformat_minor": 2
}
